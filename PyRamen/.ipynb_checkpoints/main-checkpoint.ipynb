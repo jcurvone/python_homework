{
 "cells": [
  {
   "cell_type": "code",
   "execution_count": 72,
   "metadata": {},
   "outputs": [],
   "source": [
    "import csv\n",
    "from pathlib import Path\n",
    "menu_data = Path(\"../PyRamen/menu_data.csv\")"
   ]
  },
  {
   "cell_type": "code",
   "execution_count": 73,
   "metadata": {},
   "outputs": [
    {
     "data": {
      "text/plain": [
       "PosixPath('/Users/kimcurvo/Desktop/Fintech/Modules/Module-2/python_homework/PyRamen')"
      ]
     },
     "execution_count": 73,
     "metadata": {},
     "output_type": "execute_result"
    }
   ],
   "source": [
    "Path.cwd()"
   ]
  },
  {
   "cell_type": "code",
   "execution_count": 74,
   "metadata": {},
   "outputs": [],
   "source": [
    "menu = []\n",
    "with open (menu_data, 'r') as file:\n",
    "    menu_reader = csv.reader(file, delimiter=',')\n",
    "    header = next(menu_reader)\n",
    "    for row in menu_reader: \n",
    "        menu.append(row)"
   ]
  },
  {
   "cell_type": "code",
   "execution_count": 75,
   "metadata": {},
   "outputs": [],
   "source": [
    "sales_data = Path(\"../PyRamen/sales_data.csv\")"
   ]
  },
  {
   "cell_type": "code",
   "execution_count": 76,
   "metadata": {},
   "outputs": [],
   "source": [
    "sales = []\n",
    "with open (sales_data, 'r') as file:\n",
    "    sales_reader = csv.reader(file, delimiter=',')\n",
    "    header = next(sales_reader)\n",
    "    for row in sales_reader: \n",
    "        sales.append(row)"
   ]
  },
  {
   "cell_type": "code",
   "execution_count": 144,
   "metadata": {},
   "outputs": [],
   "source": [
    "report = {}"
   ]
  },
  {
   "cell_type": "code",
   "execution_count": 145,
   "metadata": {},
   "outputs": [],
   "source": [
    "for row in sales: \n",
    "        quantity = row[3]\n",
    "        menu_item = row[4]\n",
    "        if menu_item not in report.keys(): \n",
    "            report[menu_item]={\"01-count\": 0,\"02-revenue\": 0,\"03-cogs\": 0,\"04-profit\": 0}"
   ]
  },
  {
   "cell_type": "code",
   "execution_count": 147,
   "metadata": {},
   "outputs": [],
   "source": [
    "for row in sales:\n",
    "    quantity = row[3]\n",
    "    menu_item = row[4]\n",
    "    for rowInMenu in menu:\n",
    "        item = rowInMenu[0]\n",
    "        price = rowInMenu[3]\n",
    "        cost = rowInMenu[4]\n",
    "        if item == menu_item:\n",
    "            report[menu_item][\"01-count\"] += int(quantity)\n",
    "            report[menu_item][\"02-revenue\"] += int(price) * int(quantity)\n",
    "            report[menu_item][\"03-cogs\"] += int(cost) * int(quantity)\n",
    "            report[menu_item][\"04-profit\"] += (int(price) - int(cost))* int(quantity)\n"
   ]
  },
  {
   "cell_type": "code",
   "execution_count": 148,
   "metadata": {},
   "outputs": [
    {
     "name": "stdout",
     "output_type": "stream",
     "text": [
      "{'spicy miso ramen': {'01-count': 9239, '02-revenue': 110868, '03-cogs': 46195, '04-profit': 64666}, 'tori paitan ramen': {'01-count': 9156, '02-revenue': 119028, '03-cogs': 54936, '04-profit': 64092}, 'truffle butter ramen': {'01-count': 8982, '02-revenue': 125748, '03-cogs': 62874, '04-profit': 62874}, 'tonkotsu ramen': {'01-count': 9288, '02-revenue': 120744, '03-cogs': 55728, '04-profit': 65016}, 'vegetarian spicy miso': {'01-count': 9216, '02-revenue': 110592, '03-cogs': 46080, '04-profit': 64512}, 'shio ramen': {'01-count': 9180, '02-revenue': 100980, '03-cogs': 45900, '04-profit': 55080}, 'miso crab ramen': {'01-count': 8890, '02-revenue': 106680, '03-cogs': 53340, '04-profit': 53340}, 'nagomi shoyu': {'01-count': 9132, '02-revenue': 100452, '03-cogs': 45660, '04-profit': 54792}, 'soft-shell miso crab ramen': {'01-count': 9130, '02-revenue': 127820, '03-cogs': 63910, '04-profit': 63910}, 'burnt garlic tonkotsu ramen': {'01-count': 9070, '02-revenue': 126980, '03-cogs': 54420, '04-profit': 72560}, 'vegetarian curry + king trumpet mushroom ramen': {'01-count': 8824, '02-revenue': 114712, '03-cogs': 61768, '04-profit': 52944}}\n"
     ]
    }
   ],
   "source": [
    "print(report)"
   ]
  },
  {
   "cell_type": "code",
   "execution_count": 156,
   "metadata": {},
   "outputs": [],
   "source": [
    "output_path = Path(\"PyRamen_Analysis.txt\")\n",
    "with open(output_path, 'w') as file:\n",
    "    for key,value in report.items():\n",
    "        file.write(\"%s:%s\\n\" % (key,value))"
   ]
  },
  {
   "cell_type": "code",
   "execution_count": null,
   "metadata": {},
   "outputs": [],
   "source": []
  }
 ],
 "metadata": {
  "kernelspec": {
   "display_name": "Python 3",
   "language": "python",
   "name": "python3"
  },
  "language_info": {
   "codemirror_mode": {
    "name": "ipython",
    "version": 3
   },
   "file_extension": ".py",
   "mimetype": "text/x-python",
   "name": "python",
   "nbconvert_exporter": "python",
   "pygments_lexer": "ipython3",
   "version": "3.7.6"
  }
 },
 "nbformat": 4,
 "nbformat_minor": 4
}
