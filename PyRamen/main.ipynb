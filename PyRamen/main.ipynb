{
 "cells": [
  {
   "cell_type": "code",
   "execution_count": 1,
   "metadata": {},
   "outputs": [],
   "source": [
    "import csv\n",
    "from pathlib import Path\n",
    "menu_data = Path(\"../PyRamen/menu_data.csv\")"
   ]
  },
  {
   "cell_type": "code",
   "execution_count": 2,
   "metadata": {},
   "outputs": [
    {
     "data": {
      "text/plain": [
       "PosixPath('/Users/kimcurvo/Desktop/Fintech/Modules/Module-2/python_homework/PyRamen')"
      ]
     },
     "execution_count": 2,
     "metadata": {},
     "output_type": "execute_result"
    }
   ],
   "source": [
    "Path.cwd()"
   ]
  },
  {
   "cell_type": "code",
   "execution_count": 3,
   "metadata": {},
   "outputs": [],
   "source": [
    "menu = []\n",
    "with open (menu_data, 'r') as file:\n",
    "    menu_reader = csv.reader(file, delimiter=',')\n",
    "    header = next(menu_reader)\n",
    "    for row in menu_reader: \n",
    "        menu.append(row)"
   ]
  },
  {
   "cell_type": "code",
   "execution_count": 4,
   "metadata": {},
   "outputs": [],
   "source": [
    "sales_data = Path(\"../PyRamen/sales_data.csv\")"
   ]
  },
  {
   "cell_type": "code",
   "execution_count": 5,
   "metadata": {},
   "outputs": [],
   "source": [
    "sales = []\n",
    "with open (sales_data, 'r') as file:\n",
    "    sales_reader = csv.reader(file, delimiter=',')\n",
    "    header = next(sales_reader)\n",
    "    for row in sales_reader: \n",
    "        sales.append(row)"
   ]
  },
  {
   "cell_type": "code",
   "execution_count": 29,
   "metadata": {},
   "outputs": [],
   "source": [
    "report = {}\n",
    "row_count = 0"
   ]
  },
  {
   "cell_type": "code",
   "execution_count": 31,
   "metadata": {},
   "outputs": [],
   "source": [
    "for row in sales: \n",
    "            quantity = row[3]\n",
    "            menu_item = row[4]\n",
    "            report[menu_item]={\"01-count\": 0,\n",
    "                               \"02-revenue\": 0,\n",
    "                               \"03-cogs\": 0,\n",
    "                               \"04-profit\": 0,}\n",
    "            report[menu_item][\"01-count\"] += int(quantity)\n",
    "            for rowInMenu in menu:\n",
    "                item = rowInMenu[0]\n",
    "                price = rowInMenu[3]\n",
    "                cost = rowInMenu[4]\n",
    "                if menu_item == item:\n",
    "                    report[menu_item][\"02-revenue\"] += int(price) * int(quantity)\n",
    "                    report[menu_item][\"03-cogs\"] += int(cost) * int(quantity)"
   ]
  },
  {
   "cell_type": "code",
   "execution_count": 34,
   "metadata": {},
   "outputs": [
    {
     "name": "stdout",
     "output_type": "stream",
     "text": [
      "{'spicy miso ramen': {'01-count': 2, '02-revenue': 24, '03-cogs': 10, '04-profit': 0}, 'tori paitan ramen': {'01-count': 1, '02-revenue': 13, '03-cogs': 6, '04-profit': 0}, 'truffle butter ramen': {'01-count': 1, '02-revenue': 14, '03-cogs': 7, '04-profit': 0}, 'tonkotsu ramen': {'01-count': 4, '02-revenue': 52, '03-cogs': 24, '04-profit': 0}, 'vegetarian spicy miso': {'01-count': 1, '02-revenue': 12, '03-cogs': 5, '04-profit': 0}, 'shio ramen': {'01-count': 1, '02-revenue': 11, '03-cogs': 5, '04-profit': 0}, 'miso crab ramen': {'01-count': 2, '02-revenue': 24, '03-cogs': 12, '04-profit': 0}, 'nagomi shoyu': {'01-count': 1, '02-revenue': 11, '03-cogs': 5, '04-profit': 0}, 'soft-shell miso crab ramen': {'01-count': 1, '02-revenue': 14, '03-cogs': 7, '04-profit': 0}, 'burnt garlic tonkotsu ramen': {'01-count': 1, '02-revenue': 14, '03-cogs': 6, '04-profit': 0}, 'vegetarian curry + king trumpet mushroom ramen': {'01-count': 1, '02-revenue': 13, '03-cogs': 7, '04-profit': 0}}\n"
     ]
    }
   ],
   "source": [
    "print(report)"
   ]
  },
  {
   "cell_type": "code",
   "execution_count": 155,
   "metadata": {},
   "outputs": [],
   "source": [
    "\n",
    "        \n",
    "   \n"
   ]
  },
  {
   "cell_type": "code",
   "execution_count": null,
   "metadata": {},
   "outputs": [],
   "source": [
    "print(report)"
   ]
  },
  {
   "cell_type": "code",
   "execution_count": null,
   "metadata": {},
   "outputs": [],
   "source": []
  }
 ],
 "metadata": {
  "kernelspec": {
   "display_name": "Python 3",
   "language": "python",
   "name": "python3"
  },
  "language_info": {
   "codemirror_mode": {
    "name": "ipython",
    "version": 3
   },
   "file_extension": ".py",
   "mimetype": "text/x-python",
   "name": "python",
   "nbconvert_exporter": "python",
   "pygments_lexer": "ipython3",
   "version": "3.7.6"
  }
 },
 "nbformat": 4,
 "nbformat_minor": 4
}
