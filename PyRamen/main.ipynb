{
 "cells": [
  {
   "cell_type": "code",
   "execution_count": 147,
   "metadata": {},
   "outputs": [],
   "source": [
    "import csv\n",
    "from pathlib import Path\n",
    "menu_data = Path(\"../PyRamen/menu_data.csv\")"
   ]
  },
  {
   "cell_type": "code",
   "execution_count": 148,
   "metadata": {},
   "outputs": [
    {
     "data": {
      "text/plain": [
       "PosixPath('/Users/kimcurvo/Desktop/Fintech/Modules/Module-2/python_homework/PyRamen')"
      ]
     },
     "execution_count": 148,
     "metadata": {},
     "output_type": "execute_result"
    }
   ],
   "source": [
    "Path.cwd()"
   ]
  },
  {
   "cell_type": "code",
   "execution_count": 149,
   "metadata": {},
   "outputs": [],
   "source": [
    "menu = []\n",
    "with open (menu_data, 'r') as file:\n",
    "    menu_reader = csv.reader(file, delimiter=',')\n",
    "    header = next(menu_reader)\n",
    "    for row in menu_reader: \n",
    "        menu.append(row)"
   ]
  },
  {
   "cell_type": "code",
   "execution_count": 150,
   "metadata": {},
   "outputs": [],
   "source": [
    "sales_data = Path(\"../PyRamen/sales_data.csv\")"
   ]
  },
  {
   "cell_type": "code",
   "execution_count": 151,
   "metadata": {},
   "outputs": [],
   "source": [
    "sales = []\n",
    "with open (sales_data, 'r') as file:\n",
    "    sales_reader = csv.reader(file, delimiter=',')\n",
    "    header = next(sales_reader)\n",
    "    for row in sales_reader: \n",
    "        sales.append(row)"
   ]
  },
  {
   "cell_type": "code",
   "execution_count": null,
   "metadata": {},
   "outputs": [],
   "source": [
    "report = {}\n",
    "row_count = 0"
   ]
  },
  {
   "cell_type": "code",
   "execution_count": null,
   "metadata": {},
   "outputs": [],
   "source": [
    "for row in sales: \n",
    "    quantity = row[3]\n",
    "    menu_item = row[4]\n",
    "    report[menu_item]={\n",
    "\"01-count\": 0,\n",
    "\"02-revenue\": 0,\n",
    "\"03-cogs\": 0,\n",
    "\"04-profit\": 0,\n",
    "}\n",
    "    for menu_row in menu:\n",
    "        item = row[0]\n",
    "        price = row[3]\n",
    "        cost = row[4]\n",
    "        for sales_row in sales:\n",
    "            if menu_item == item:\n",
    "                report[menu_item][\"01-count\"] += int(quantity)\n",
    "                report[menu_item][\"02-revenue\"] += int(price) * int(quantity)\n",
    "                report[menu_item][\"03-cogs\"] += int(cost) * int(quantity)"
   ]
  },
  {
   "cell_type": "code",
   "execution_count": null,
   "metadata": {},
   "outputs": [],
   "source": [
    "print(report)"
   ]
  },
  {
   "cell_type": "code",
   "execution_count": 155,
   "metadata": {},
   "outputs": [],
   "source": [
    "\n",
    "        \n",
    "   \n"
   ]
  },
  {
   "cell_type": "code",
   "execution_count": null,
   "metadata": {},
   "outputs": [],
   "source": [
    "print(report)"
   ]
  },
  {
   "cell_type": "code",
   "execution_count": null,
   "metadata": {},
   "outputs": [],
   "source": []
  }
 ],
 "metadata": {
  "kernelspec": {
   "display_name": "Python 3",
   "language": "python",
   "name": "python3"
  },
  "language_info": {
   "codemirror_mode": {
    "name": "ipython",
    "version": 3
   },
   "file_extension": ".py",
   "mimetype": "text/x-python",
   "name": "python",
   "nbconvert_exporter": "python",
   "pygments_lexer": "ipython3",
   "version": "3.7.6"
  }
 },
 "nbformat": 4,
 "nbformat_minor": 4
}
