{
 "cells": [
  {
   "cell_type": "code",
   "execution_count": 86,
   "metadata": {},
   "outputs": [],
   "source": [
    "from pathlib import Path\n",
    "import csv"
   ]
  },
  {
   "cell_type": "code",
   "execution_count": 87,
   "metadata": {},
   "outputs": [
    {
     "data": {
      "text/plain": [
       "PosixPath('/Users/kimcurvo/Desktop/Fintech/Modules/Module-2/python_homework/PyBank')"
      ]
     },
     "execution_count": 87,
     "metadata": {},
     "output_type": "execute_result"
    }
   ],
   "source": [
    "Path.cwd()"
   ]
  },
  {
   "cell_type": "code",
   "execution_count": 88,
   "metadata": {},
   "outputs": [],
   "source": [
    "filepath = Path(\"../PyBank/02-Homework_02-Python_Instructions_PyBank_Resources_budget_data.csv\")"
   ]
  },
  {
   "cell_type": "code",
   "execution_count": 89,
   "metadata": {},
   "outputs": [],
   "source": [
    "month_count = 0 \n",
    "total_net = 0 \n",
    "average_change = 0 \n",
    "max_increase = 0 \n",
    "max_decrease = 0\n",
    "total_change = 0\n",
    "profit_losses = [] #Created to be able to calculate average change\n",
    "changes = [] # Created to store the monthly change amount  \n",
    "dates = [] # Created to be able to attach to the greatest increase/decrease"
   ]
  },
  {
   "cell_type": "code",
   "execution_count": 90,
   "metadata": {},
   "outputs": [],
   "source": [
    "with open(filepath, 'r') as pybank_file:\n",
    "    pybank_reader = csv.reader(pybank_file , delimiter=',')\n",
    "    header = next(pybank_reader)\n",
    "    for row in pybank_reader:\n",
    "        profit_losses.append(int(row[1]))#Create list of Profit/Losses to later calculate average change. \n",
    "        dates.append(row[0])\n",
    "        month_count += 1  #Total months\n",
    "        total_net += int(row[1]) #Total net amount\n",
    "        changes = [y - x for (x,y) in zip(profit_losses, profit_losses[1:])] #Calculate monthly change amount\n",
    "    for change in changes: \n",
    "        total_change += change\n",
    "        average_change = (total_change / len(changes)) #Average Change \n",
    "        if max_decrease == 0: #Calculate Greatest increase and decrease\n",
    "            max_decrease = change\n",
    "        elif change < max_decrease:\n",
    "            max_decrease = change\n",
    "        elif change > max_increase: \n",
    "            max_increase = change"
   ]
  },
  {
   "cell_type": "code",
   "execution_count": 91,
   "metadata": {},
   "outputs": [],
   "source": [
    "#Create a list of dict so I can link a date to the greatest increase and decrease. \n",
    "changes.insert(0,0) #Insert 0 in the first month as there is no change.\n",
    "new_dict = [ {\"Dates\" : v1, \"profit_losses\" : v2, \"Changes\" : v3} for v1,v2,v3 in zip(dates, profit_losses, changes)]\n",
    "index_increase = next(item for item in new_dict if item[\"Changes\"]== max_increase) #Find month of max increase\n",
    "index_decrease = next(item for item in new_dict if item[\"Changes\"]== max_decrease) # Find month of max decrease\n",
    "month_increase = index_increase[\"Dates\"] #Output month of max increase\n",
    "month_decrease = index_decrease[\"Dates\"] #Output month of max decrease"
   ]
  },
  {
   "cell_type": "code",
   "execution_count": 92,
   "metadata": {},
   "outputs": [],
   "source": [
    "output_path = Path(\"PyBank_Analysis.txt\")\n",
    "with open(output_path, 'w') as file:\n",
    "    file.write(f\"Financial Analysis\\n\")\n",
    "    file.write(f\"-----------------------------\\n\")\n",
    "    file.write(f\"Total Months: {month_count}\\n\")\n",
    "    file.write(f\"Total: ${total_net}\\n\")\n",
    "    file.write(f\"Average Change: ${average_change:.2f}\\n\")\n",
    "    file.write(f\"Greatest Increase in Profits: {month_increase} ${max_increase}\\n\") \n",
    "    file.write(f\"Greatest Decrease in Profits: {month_decrease} ${max_decrease}\\n\")"
   ]
  },
  {
   "cell_type": "code",
   "execution_count": 258,
   "metadata": {},
   "outputs": [
    {
     "name": "stdout",
     "output_type": "stream",
     "text": [
      "\n"
     ]
    }
   ],
   "source": []
  }
 ],
 "metadata": {
  "kernelspec": {
   "display_name": "Python 3",
   "language": "python",
   "name": "python3"
  },
  "language_info": {
   "codemirror_mode": {
    "name": "ipython",
    "version": 3
   },
   "file_extension": ".py",
   "mimetype": "text/x-python",
   "name": "python",
   "nbconvert_exporter": "python",
   "pygments_lexer": "ipython3",
   "version": "3.7.6"
  }
 },
 "nbformat": 4,
 "nbformat_minor": 4
}
